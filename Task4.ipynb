{
 "cells": [
  {
   "cell_type": "markdown",
   "metadata": {},
   "source": [
    "### Task 4 – Decompose and reduction\n",
    "\n",
    "From the qasm 3.0 code, make a decomposition in which only the gates of the clifford+T group remain, and then identify if the number of gates can be reduced, e.g.\n",
    "\n",
    "What can the following quantum circuits be reduced to?\n",
    "\n",
    "The gates you need to consider are RX, RY, RZ,  CCX,  and reduce them if exist the case.\n",
    "\n",
    "\n"
   ]
  },
  {
   "cell_type": "code",
   "execution_count": 1,
   "metadata": {},
   "outputs": [],
   "source": [
    "# [rz](https://qiskit.org/textbook/ch-gates/more-circuit-identities.html#5.-Arbitrary-rotations-from-H-and-T-)"
   ]
  },
  {
   "cell_type": "code",
   "execution_count": 2,
   "metadata": {},
   "outputs": [],
   "source": [
    "from qiskit import QuantumCircuit\n",
    "from math import pi, e\n",
    "from qiskit.quantum_info import Operator"
   ]
  },
  {
   "cell_type": "code",
   "execution_count": 3,
   "metadata": {},
   "outputs": [
    {
     "data": {
      "image/png": "[encoded data removed]",
      "text/plain": [
       "<Figure size 507.997x204.68 with 1 Axes>"
      ]
     },
     "execution_count": 3,
     "metadata": {},
     "output_type": "execute_result"
    }
   ],
   "source": [
    "qc = QuantumCircuit(3)\n",
    "qc.h(0)\n",
    "qc.y(1)\n",
    "qc.h(2)\n",
    "qc.barrier()\n",
    "qc.cx(0,1)\n",
    "qc.barrier()\n",
    "qc.ccx(0,1,2)\n",
    "qc.barrier()\n",
    "qc.z(1)\n",
    "qc.rz(pi/5, 2)\n",
    "\n",
    "qc.draw('mpl')"
   ]
  },
  {
   "cell_type": "code",
   "execution_count": 4,
   "metadata": {},
   "outputs": [
    {
     "name": "stdout",
     "output_type": "stream",
     "text": [
      "Operator([[ 0.       +0.j        ,  0.       +0.j        ,\n",
      "           -0.1545085-0.47552826j, -0.1545085-0.47552826j,\n",
      "            0.       +0.j        ,  0.       +0.j        ,\n",
      "           -0.1545085-0.47552826j, -0.1545085-0.47552826j],\n",
      "          [ 0.1545085+0.47552826j, -0.1545085-0.47552826j,\n",
      "            0.       +0.j        ,  0.       +0.j        ,\n",
      "            0.1545085+0.47552826j, -0.1545085-0.47552826j,\n",
      "            0.       +0.j        ,  0.       +0.j        ],\n",
      "          [-0.1545085-0.47552826j, -0.1545085-0.47552826j,\n",
      "            0.       +0.j        ,  0.       +0.j        ,\n",
      "           -0.1545085-0.47552826j, -0.1545085-0.47552826j,\n",
      "            0.       +0.j        ,  0.       +0.j        ],\n",
      "          [ 0.       +0.j        ,  0.       +0.j        ,\n",
      "            0.1545085+0.47552826j, -0.1545085-0.47552826j,\n",
      "            0.       +0.j        ,  0.       +0.j        ,\n",
      "           -0.1545085-0.47552826j,  0.1545085+0.47552826j],\n",
      "          [ 0.       +0.j        ,  0.       +0.j        ,\n",
      "            0.1545085-0.47552826j,  0.1545085-0.47552826j,\n",
      "            0.       +0.j        ,  0.       +0.j        ,\n",
      "           -0.1545085+0.47552826j, -0.1545085+0.47552826j],\n",
      "          [-0.1545085+0.47552826j,  0.1545085-0.47552826j,\n",
      "            0.       +0.j        ,  0.       +0.j        ,\n",
      "            0.1545085-0.47552826j, -0.1545085+0.47552826j,\n",
      "            0.       +0.j        ,  0.       +0.j        ],\n",
      "          [ 0.1545085-0.47552826j,  0.1545085-0.47552826j,\n",
      "            0.       +0.j        ,  0.       +0.j        ,\n",
      "           -0.1545085+0.47552826j, -0.1545085+0.47552826j,\n",
      "            0.       +0.j        ,  0.       +0.j        ],\n",
      "          [ 0.       +0.j        ,  0.       +0.j        ,\n",
      "           -0.1545085+0.47552826j,  0.1545085-0.47552826j,\n",
      "            0.       +0.j        ,  0.       +0.j        ,\n",
      "           -0.1545085+0.47552826j,  0.1545085-0.47552826j]],\n",
      "         input_dims=(2, 2, 2), output_dims=(2, 2, 2))\n"
     ]
    }
   ],
   "source": [
    "circuit1 = Operator(qc)\n",
    "print(circuit1)"
   ]
  },
  {
   "cell_type": "markdown",
   "metadata": {},
   "source": [
    "We know that the clifford gates are H, S, Z, CNOT and from the task description we have to decompose all gates into a combination of these gates. \n",
    "\n",
    "Some Relations\n",
    "\n",
    "1. TT = S\n",
    "2. SS = TTTT = Z\n",
    "\n",
    "So we can reduce gates using these relations\n",
    "\n",
    "[More on Clifford gates](https://github.com/developer-student-club-thapar/Quantum-Computing/blob/main/4.%20Multi-Qubit%20Gates/e.%20Universality.ipynb)"
   ]
  },
  {
   "cell_type": "markdown",
   "metadata": {},
   "source": [
    "#### Before Barrier 1\n",
    "| Qubit | Gate | Decomposition |\n",
    "| :- | -: | -: |\n",
    "| 0 | H | H |\n",
    "| 1 | Y | SHSSHS$^{\\dagger}$ |\n",
    "| 2 | H | H |\n",
    "\n",
    "[Proof Y = SHSSHS$^{\\dagger}$](https://github.com/developer-student-club-thapar/Quantum-Computing/blob/main/3.%20Single%20Qubit%20Gates/c.%20universality_and_fidelity.ipynb)"
   ]
  },
  {
   "cell_type": "markdown",
   "metadata": {},
   "source": [
    "#### Before Barrier 2\n",
    "| Qubit | Gate | Decomposition |\n",
    "| :- | -: | -: |\n",
    "| 0,1 | CNOT | CNOT |"
   ]
  },
  {
   "cell_type": "markdown",
   "metadata": {},
   "source": [
    "#### Before Barrier 3\n",
    "| Qubit | Gate | Decomposition |\n",
    "| :- | -: | -: |\n",
    "| 0,1,2 | CCNOT or Toffoli | Toffoli Decomposition |\n",
    "\n",
    "[Toffoli Decomposition](https://github.com/developer-student-club-thapar/Quantum-Computing/blob/main/4.%20Multi-Qubit%20Gates/f.%20Three%20qubit%20gates.ipynb)"
   ]
  },
  {
   "cell_type": "markdown",
   "metadata": {},
   "source": [
    "#### After Barrier 3\n",
    "| Qubit | Gate | Decomposition |\n",
    "| :- | -: | -: |\n",
    "| 1 | Z | SS |\n",
    "| 2 | Rz | - |"
   ]
  },
  {
   "cell_type": "markdown",
   "metadata": {},
   "source": [
    "### Decomposed Circuit"
   ]
  },
  {
   "cell_type": "code",
   "execution_count": 5,
   "metadata": {},
   "outputs": [
    {
     "data": {
      "image/png": "[encoded data removed]",
      "text/plain": [
       "<Figure size 1591.6x204.68 with 1 Axes>"
      ]
     },
     "execution_count": 5,
     "metadata": {},
     "output_type": "execute_result"
    }
   ],
   "source": [
    "qc = QuantumCircuit(3)\n",
    "qc.h(0)\n",
    "qc.sdg(1)\n",
    "qc.h(1)\n",
    "qc.s(1)\n",
    "qc.s(1)\n",
    "qc.h(1)\n",
    "qc.s(1)\n",
    "qc.h(2)\n",
    "qc.barrier()\n",
    "\n",
    "qc.cx(0,1)\n",
    "qc.barrier()\n",
    "\n",
    "qc.h(2)\n",
    "qc.cx(1,2)\n",
    "qc.tdg(2)\n",
    "qc.cx(0,2)\n",
    "qc.t(2)\n",
    "qc.cx(1,2)\n",
    "qc.tdg(2)\n",
    "qc.cx(0,2)\n",
    "qc.barrier()\n",
    "qc.t([1,2])\n",
    "qc.cx(0,1)\n",
    "qc.h(2)\n",
    "qc.t(0)\n",
    "qc.tdg(1)\n",
    "qc.cx(0,1)\n",
    "qc.barrier()\n",
    "\n",
    "qc.s(1)\n",
    "qc.s(1)\n",
    "# qc.s(2)\n",
    "# qc.s(2)*(e**(pi/10))\n",
    "qc.rz(pi/5, 2)\n",
    "\n",
    "qc.draw('mpl')"
   ]
  },
  {
   "cell_type": "code",
   "execution_count": 6,
   "metadata": {
    "scrolled": true
   },
   "outputs": [
    {
     "name": "stdout",
     "output_type": "stream",
     "text": [
      "Operator([[ 0.       +0.j        ,  0.       +0.j        ,\n",
      "           -0.1545085-0.47552826j, -0.1545085-0.47552826j,\n",
      "            0.       +0.j        ,  0.       +0.j        ,\n",
      "           -0.1545085-0.47552826j, -0.1545085-0.47552826j],\n",
      "          [ 0.1545085+0.47552826j, -0.1545085-0.47552826j,\n",
      "            0.       +0.j        ,  0.       +0.j        ,\n",
      "            0.1545085+0.47552826j, -0.1545085-0.47552826j,\n",
      "            0.       +0.j        ,  0.       +0.j        ],\n",
      "          [-0.1545085-0.47552826j, -0.1545085-0.47552826j,\n",
      "            0.       +0.j        ,  0.       +0.j        ,\n",
      "           -0.1545085-0.47552826j, -0.1545085-0.47552826j,\n",
      "            0.       +0.j        ,  0.       +0.j        ],\n",
      "          [ 0.       +0.j        ,  0.       +0.j        ,\n",
      "            0.1545085+0.47552826j, -0.1545085-0.47552826j,\n",
      "            0.       +0.j        ,  0.       +0.j        ,\n",
      "           -0.1545085-0.47552826j,  0.1545085+0.47552826j],\n",
      "          [ 0.       +0.j        ,  0.       +0.j        ,\n",
      "            0.1545085-0.47552826j,  0.1545085-0.47552826j,\n",
      "            0.       +0.j        ,  0.       +0.j        ,\n",
      "           -0.1545085+0.47552826j, -0.1545085+0.47552826j],\n",
      "          [-0.1545085+0.47552826j,  0.1545085-0.47552826j,\n",
      "            0.       +0.j        ,  0.       +0.j        ,\n",
      "            0.1545085-0.47552826j, -0.1545085+0.47552826j,\n",
      "            0.       +0.j        ,  0.       +0.j        ],\n",
      "          [ 0.1545085-0.47552826j,  0.1545085-0.47552826j,\n",
      "            0.       +0.j        ,  0.       +0.j        ,\n",
      "           -0.1545085+0.47552826j, -0.1545085+0.47552826j,\n",
      "            0.       +0.j        ,  0.       +0.j        ],\n",
      "          [ 0.       +0.j        ,  0.       +0.j        ,\n",
      "           -0.1545085+0.47552826j,  0.1545085-0.47552826j,\n",
      "            0.       +0.j        ,  0.       +0.j        ,\n",
      "           -0.1545085+0.47552826j,  0.1545085-0.47552826j]],\n",
      "         input_dims=(2, 2, 2), output_dims=(2, 2, 2))\n"
     ]
    }
   ],
   "source": [
    "circuit2 = Operator(qc)\n",
    "print(circuit2)"
   ]
  },
  {
   "cell_type": "markdown",
   "metadata": {},
   "source": [
    "### Decomposed and reduced circuit"
   ]
  },
  {
   "cell_type": "code",
   "execution_count": 7,
   "metadata": {},
   "outputs": [
    {
     "data": {
      "image/png": "[encoded data removed]",
      "text/plain": [
       "<Figure size 1471.2x204.68 with 1 Axes>"
      ]
     },
     "execution_count": 7,
     "metadata": {},
     "output_type": "execute_result"
    }
   ],
   "source": [
    "qc = QuantumCircuit(3)\n",
    "qc.h(0)\n",
    "qc.sdg(1)\n",
    "qc.h(1)\n",
    "qc.z(1)\n",
    "qc.h(1)\n",
    "qc.s(1)\n",
    "qc.h(2)\n",
    "qc.barrier()\n",
    "\n",
    "qc.cx(0,1)\n",
    "qc.barrier()\n",
    "\n",
    "qc.h(2)\n",
    "qc.cx(1,2)\n",
    "qc.tdg(2)\n",
    "qc.cx(0,2)\n",
    "qc.t(2)\n",
    "qc.cx(1,2)\n",
    "qc.tdg(2)\n",
    "qc.cx(0,2)\n",
    "qc.barrier()\n",
    "qc.t([1,2])\n",
    "qc.cx(0,1)\n",
    "qc.h(2)\n",
    "qc.t(0)\n",
    "qc.tdg(1)\n",
    "qc.cx(0,1)\n",
    "qc.barrier()\n",
    "\n",
    "qc.z(1)\n",
    "# qc.s(2)\n",
    "# qc.s(2)*(e**(pi/10))\n",
    "qc.rz(pi/5, 2)\n",
    "\n",
    "qc.draw('mpl')"
   ]
  },
  {
   "cell_type": "code",
   "execution_count": 8,
   "metadata": {},
   "outputs": [],
   "source": [
    "circuit3 = Operator(qc)"
   ]
  },
  {
   "cell_type": "markdown",
   "metadata": {},
   "source": [
    "### Checking if the 2 circuits are equivalent using fidelity\n",
    "\n",
    "[More on Fidelity](https://github.com/developer-student-club-thapar/Quantum-Computing/blob/main/3.%20Single%20Qubit%20Gates/c.%20universality_and_fidelity.ipynb)"
   ]
  },
  {
   "cell_type": "code",
   "execution_count": 9,
   "metadata": {},
   "outputs": [
    {
     "name": "stdout",
     "output_type": "stream",
     "text": [
      "Average Gate Fidelity: 0.999999999999998\n",
      "Process Fidelity: 0.9999999999999978\n"
     ]
    }
   ],
   "source": [
    "from qiskit.quantum_info import average_gate_fidelity, process_fidelity, state_fidelity\n",
    "print('Average Gate Fidelity: {}'.format(average_gate_fidelity(circuit1, circuit2)))\n",
    "print('Process Fidelity: {}'.format(process_fidelity(circuit1, circuit2)))"
   ]
  },
  {
   "cell_type": "code",
   "execution_count": 10,
   "metadata": {},
   "outputs": [
    {
     "name": "stdout",
     "output_type": "stream",
     "text": [
      "Average Gate Fidelity: 0.999999999999997\n",
      "Process Fidelity: 0.9999999999999967\n"
     ]
    }
   ],
   "source": [
    "print('Average Gate Fidelity: {}'.format(average_gate_fidelity(circuit2, circuit3)))\n",
    "print('Process Fidelity: {}'.format(process_fidelity(circuit2, circuit3)))"
   ]
  },
  {
   "cell_type": "markdown",
   "metadata": {},
   "source": [
    "Values closer to 1 indicate that the circuits are having the same effect"
   ]
  },
  {
   "cell_type": "markdown",
   "metadata": {},
   "source": [
    "### In qasm"
   ]
  },
  {
   "cell_type": "code",
   "execution_count": 11,
   "metadata": {},
   "outputs": [
    {
     "name": "stdout",
     "output_type": "stream",
     "text": [
      "OPENQASM 2.0;\n",
      "include \"qelib1.inc\";\n",
      "qreg q[3];\n",
      "h q[0];\n",
      "sdg q[1];\n",
      "h q[1];\n",
      "z q[1];\n",
      "h q[1];\n",
      "s q[1];\n",
      "h q[2];\n",
      "barrier q[0],q[1],q[2];\n",
      "cx q[0],q[1];\n",
      "barrier q[0],q[1],q[2];\n",
      "h q[2];\n",
      "cx q[1],q[2];\n",
      "tdg q[2];\n",
      "cx q[0],q[2];\n",
      "t q[2];\n",
      "cx q[1],q[2];\n",
      "tdg q[2];\n",
      "cx q[0],q[2];\n",
      "barrier q[0],q[1],q[2];\n",
      "t q[1];\n",
      "t q[2];\n",
      "cx q[0],q[1];\n",
      "h q[2];\n",
      "t q[0];\n",
      "tdg q[1];\n",
      "cx q[0],q[1];\n",
      "barrier q[0],q[1],q[2];\n",
      "z q[1];\n",
      "rz(pi/5) q[2];\n",
      "\n"
     ]
    }
   ],
   "source": [
    "Qasm = qc.qasm()\n",
    "print(Qasm)"
   ]
  }
 ],
 "metadata": {
  "kernelspec": {
   "display_name": "Python 3",
   "language": "python",
   "name": "python3"
  },
  "language_info": {
   "codemirror_mode": {
    "name": "ipython",
    "version": 3
   },
   "file_extension": ".py",
   "mimetype": "text/x-python",
   "name": "python",
   "nbconvert_exporter": "python",
   "pygments_lexer": "ipython3",
   "version": "3.8.10"
  }
 },
 "nbformat": 4,
 "nbformat_minor": 4
}
